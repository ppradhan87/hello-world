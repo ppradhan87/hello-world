{
  "cells": [
    {
      "cell_type": "markdown",
      "metadata": {
        "id": "view-in-github",
        "colab_type": "text"
      },
      "source": [
        "<a href=\"https://colab.research.google.com/github/ppradhan87/hello-world/blob/master/PYF_Project_LearnerNotebook_LowCode_Learner.ipynb\" target=\"_parent\"><img src=\"https://colab.research.google.com/assets/colab-badge.svg\" alt=\"Open In Colab\"/></a>"
      ]
    },
    {
      "cell_type": "markdown",
      "metadata": {
        "id": "HnAlaR5Y2rc8"
      },
      "source": [
        "# Project Python Foundations: FoodHub Data Analysis"
      ]
    },
    {
      "cell_type": "markdown",
      "metadata": {
        "id": "N0e9ilAx2rc_"
      },
      "source": [
        "### Context\n",
        "\n",
        "The number of restaurants in New York is increasing day by day. Lots of students and busy professionals rely on those restaurants due to their hectic lifestyles. Online food delivery service is a great option for them. It provides them with good food from their favorite restaurants. A food aggregator company FoodHub offers access to multiple restaurants through a single smartphone app.\n",
        "\n",
        "The app allows the restaurants to receive a direct online order from a customer. The app assigns a delivery person from the company to pick up the order after it is confirmed by the restaurant. The delivery person then uses the map to reach the restaurant and waits for the food package. Once the food package is handed over to the delivery person, he/she confirms the pick-up in the app and travels to the customer's location to deliver the food. The delivery person confirms the drop-off in the app after delivering the food package to the customer. The customer can rate the order in the app. The food aggregator earns money by collecting a fixed margin of the delivery order from the restaurants.\n",
        "\n",
        "### Objective\n",
        "\n",
        "The food aggregator company has stored the data of the different orders made by the registered customers in their online portal. They want to analyze the data to get a fair idea about the demand of different restaurants which will help them in enhancing their customer experience. Suppose you are hired as a Data Scientist in this company and the Data Science team has shared some of the key questions that need to be answered. Perform the data analysis to find answers to these questions that will help the company to improve the business.\n",
        "\n",
        "### Data Description\n",
        "\n",
        "The data contains the different data related to a food order. The detailed data dictionary is given below.\n",
        "\n",
        "### Data Dictionary\n",
        "\n",
        "* order_id: Unique ID of the order\n",
        "* customer_id: ID of the customer who ordered the food\n",
        "* restaurant_name: Name of the restaurant\n",
        "* cuisine_type: Cuisine ordered by the customer\n",
        "* cost_of_the_order: Cost of the order\n",
        "* day_of_the_week: Indicates whether the order is placed on a weekday or weekend (The weekday is from Monday to Friday and the weekend is Saturday and Sunday)\n",
        "* rating: Rating given by the customer out of 5\n",
        "* food_preparation_time: Time (in minutes) taken by the restaurant to prepare the food. This is calculated by taking the difference between the timestamps of the restaurant's order confirmation and the delivery person's pick-up confirmation.\n",
        "* delivery_time: Time (in minutes) taken by the delivery person to deliver the food package. This is calculated by taking the difference between the timestamps of the delivery person's pick-up confirmation and drop-off information"
      ]
    },
    {
      "cell_type": "markdown",
      "metadata": {
        "id": "enOodKS42rdB"
      },
      "source": [
        "### Let us start by importing the required libraries"
      ]
    },
    {
      "cell_type": "markdown",
      "metadata": {
        "id": "Ruz2EiJ32rdB"
      },
      "source": [
        "### **Please read the instructions carefully before starting the project.**\n",
        "This is a commented Jupyter IPython Notebook file in which all the instructions and tasks to be performed are mentioned. Read along carefully to complete the project.\n",
        "* Blanks '_______' are provided in the notebook that\n",
        "needs to be filled with an appropriate code to get the correct result. Please replace the blank with the right code snippet. With every '_______' blank, there is a comment that briefly describes what needs to be filled in the blank space.\n",
        "* Identify the task to be performed correctly, and only then proceed to write the required code.\n",
        "* Fill the code wherever asked by the commented lines like \"# write your code here\" or \"# complete the code\". Running incomplete code may throw an error.\n",
        "* Please run the codes in a sequential manner from the beginning to avoid any unnecessary errors.\n",
        "* You can the results/observations derived from the analysis here and use them to create your final presentation.\n"
      ]
    },
    {
      "cell_type": "code",
      "execution_count": null,
      "metadata": {
        "id": "xk25d_4zX0bK"
      },
      "outputs": [],
      "source": [
        "# Installing the libraries with the specified version.\n",
        "#!pip install numpy==1.25.2 pandas==1.5.3 matplotlib==3.7.1 seaborn==0.13.1 -q --user"
      ]
    },
    {
      "cell_type": "markdown",
      "metadata": {
        "id": "e--ktlZmzKeq"
      },
      "source": [
        "**Note**: *After running the above cell, kindly restart the notebook kernel and run all cells sequentially from the start again.*"
      ]
    },
    {
      "cell_type": "code",
      "execution_count": 3,
      "metadata": {
        "id": "p7FpluTK2rdC"
      },
      "outputs": [],
      "source": [
        "# Import libraries for data manipulation\n",
        "import numpy as np\n",
        "import pandas as pd\n",
        "\n",
        "# Import libraries for data visualization\n",
        "import matplotlib.pyplot as plt\n",
        "import seaborn as sns"
      ]
    },
    {
      "cell_type": "markdown",
      "metadata": {
        "id": "LHxIYWXP2rdD"
      },
      "source": [
        "### Understanding the structure of the data"
      ]
    },
    {
      "cell_type": "code",
      "execution_count": 3,
      "metadata": {
        "id": "bTSFV3nfkOqH"
      },
      "outputs": [],
      "source": [
        "# uncomment and run the following lines for Google Colab\n",
        "# from google.colab import drive\n",
        "# drive.mount('/content/drive')"
      ]
    },
    {
      "cell_type": "code",
      "execution_count": 4,
      "metadata": {
        "id": "nwlzFr-_2rdD",
        "scrolled": true
      },
      "outputs": [],
      "source": [
        "# Read the data\n",
        "df = pd.read_csv('/content/foodhub_order.csv') ## Fill the blank to read the data"
      ]
    },
    {
      "cell_type": "code",
      "execution_count": 5,
      "metadata": {
        "id": "XpyE1fL7Qmya",
        "colab": {
          "base_uri": "https://localhost:8080/",
          "height": 206
        },
        "outputId": "23457f31-6adf-4038-c763-c511cce822a6"
      },
      "outputs": [
        {
          "output_type": "execute_result",
          "data": {
            "text/plain": [
              "   order_id  customer_id            restaurant_name cuisine_type  \\\n",
              "0   1477147       337525                    Hangawi       Korean   \n",
              "1   1477685       358141  Blue Ribbon Sushi Izakaya     Japanese   \n",
              "2   1477070        66393                Cafe Habana      Mexican   \n",
              "3   1477334       106968  Blue Ribbon Fried Chicken     American   \n",
              "4   1478249        76942           Dirty Bird to Go     American   \n",
              "\n",
              "   cost_of_the_order day_of_the_week     rating  food_preparation_time  \\\n",
              "0              30.75         Weekend  Not given                     25   \n",
              "1              12.08         Weekend  Not given                     25   \n",
              "2              12.23         Weekday          5                     23   \n",
              "3              29.20         Weekend          3                     25   \n",
              "4              11.59         Weekday          4                     25   \n",
              "\n",
              "   delivery_time  \n",
              "0             20  \n",
              "1             23  \n",
              "2             28  \n",
              "3             15  \n",
              "4             24  "
            ],
            "text/html": [
              "\n",
              "  <div id=\"df-d7d7447c-e5a6-40b0-ad2d-34f2d967da44\" class=\"colab-df-container\">\n",
              "    <div>\n",
              "<style scoped>\n",
              "    .dataframe tbody tr th:only-of-type {\n",
              "        vertical-align: middle;\n",
              "    }\n",
              "\n",
              "    .dataframe tbody tr th {\n",
              "        vertical-align: top;\n",
              "    }\n",
              "\n",
              "    .dataframe thead th {\n",
              "        text-align: right;\n",
              "    }\n",
              "</style>\n",
              "<table border=\"1\" class=\"dataframe\">\n",
              "  <thead>\n",
              "    <tr style=\"text-align: right;\">\n",
              "      <th></th>\n",
              "      <th>order_id</th>\n",
              "      <th>customer_id</th>\n",
              "      <th>restaurant_name</th>\n",
              "      <th>cuisine_type</th>\n",
              "      <th>cost_of_the_order</th>\n",
              "      <th>day_of_the_week</th>\n",
              "      <th>rating</th>\n",
              "      <th>food_preparation_time</th>\n",
              "      <th>delivery_time</th>\n",
              "    </tr>\n",
              "  </thead>\n",
              "  <tbody>\n",
              "    <tr>\n",
              "      <th>0</th>\n",
              "      <td>1477147</td>\n",
              "      <td>337525</td>\n",
              "      <td>Hangawi</td>\n",
              "      <td>Korean</td>\n",
              "      <td>30.75</td>\n",
              "      <td>Weekend</td>\n",
              "      <td>Not given</td>\n",
              "      <td>25</td>\n",
              "      <td>20</td>\n",
              "    </tr>\n",
              "    <tr>\n",
              "      <th>1</th>\n",
              "      <td>1477685</td>\n",
              "      <td>358141</td>\n",
              "      <td>Blue Ribbon Sushi Izakaya</td>\n",
              "      <td>Japanese</td>\n",
              "      <td>12.08</td>\n",
              "      <td>Weekend</td>\n",
              "      <td>Not given</td>\n",
              "      <td>25</td>\n",
              "      <td>23</td>\n",
              "    </tr>\n",
              "    <tr>\n",
              "      <th>2</th>\n",
              "      <td>1477070</td>\n",
              "      <td>66393</td>\n",
              "      <td>Cafe Habana</td>\n",
              "      <td>Mexican</td>\n",
              "      <td>12.23</td>\n",
              "      <td>Weekday</td>\n",
              "      <td>5</td>\n",
              "      <td>23</td>\n",
              "      <td>28</td>\n",
              "    </tr>\n",
              "    <tr>\n",
              "      <th>3</th>\n",
              "      <td>1477334</td>\n",
              "      <td>106968</td>\n",
              "      <td>Blue Ribbon Fried Chicken</td>\n",
              "      <td>American</td>\n",
              "      <td>29.20</td>\n",
              "      <td>Weekend</td>\n",
              "      <td>3</td>\n",
              "      <td>25</td>\n",
              "      <td>15</td>\n",
              "    </tr>\n",
              "    <tr>\n",
              "      <th>4</th>\n",
              "      <td>1478249</td>\n",
              "      <td>76942</td>\n",
              "      <td>Dirty Bird to Go</td>\n",
              "      <td>American</td>\n",
              "      <td>11.59</td>\n",
              "      <td>Weekday</td>\n",
              "      <td>4</td>\n",
              "      <td>25</td>\n",
              "      <td>24</td>\n",
              "    </tr>\n",
              "  </tbody>\n",
              "</table>\n",
              "</div>\n",
              "    <div class=\"colab-df-buttons\">\n",
              "\n",
              "  <div class=\"colab-df-container\">\n",
              "    <button class=\"colab-df-convert\" onclick=\"convertToInteractive('df-d7d7447c-e5a6-40b0-ad2d-34f2d967da44')\"\n",
              "            title=\"Convert this dataframe to an interactive table.\"\n",
              "            style=\"display:none;\">\n",
              "\n",
              "  <svg xmlns=\"http://www.w3.org/2000/svg\" height=\"24px\" viewBox=\"0 -960 960 960\">\n",
              "    <path d=\"M120-120v-720h720v720H120Zm60-500h600v-160H180v160Zm220 220h160v-160H400v160Zm0 220h160v-160H400v160ZM180-400h160v-160H180v160Zm440 0h160v-160H620v160ZM180-180h160v-160H180v160Zm440 0h160v-160H620v160Z\"/>\n",
              "  </svg>\n",
              "    </button>\n",
              "\n",
              "  <style>\n",
              "    .colab-df-container {\n",
              "      display:flex;\n",
              "      gap: 12px;\n",
              "    }\n",
              "\n",
              "    .colab-df-convert {\n",
              "      background-color: #E8F0FE;\n",
              "      border: none;\n",
              "      border-radius: 50%;\n",
              "      cursor: pointer;\n",
              "      display: none;\n",
              "      fill: #1967D2;\n",
              "      height: 32px;\n",
              "      padding: 0 0 0 0;\n",
              "      width: 32px;\n",
              "    }\n",
              "\n",
              "    .colab-df-convert:hover {\n",
              "      background-color: #E2EBFA;\n",
              "      box-shadow: 0px 1px 2px rgba(60, 64, 67, 0.3), 0px 1px 3px 1px rgba(60, 64, 67, 0.15);\n",
              "      fill: #174EA6;\n",
              "    }\n",
              "\n",
              "    .colab-df-buttons div {\n",
              "      margin-bottom: 4px;\n",
              "    }\n",
              "\n",
              "    [theme=dark] .colab-df-convert {\n",
              "      background-color: #3B4455;\n",
              "      fill: #D2E3FC;\n",
              "    }\n",
              "\n",
              "    [theme=dark] .colab-df-convert:hover {\n",
              "      background-color: #434B5C;\n",
              "      box-shadow: 0px 1px 3px 1px rgba(0, 0, 0, 0.15);\n",
              "      filter: drop-shadow(0px 1px 2px rgba(0, 0, 0, 0.3));\n",
              "      fill: #FFFFFF;\n",
              "    }\n",
              "  </style>\n",
              "\n",
              "    <script>\n",
              "      const buttonEl =\n",
              "        document.querySelector('#df-d7d7447c-e5a6-40b0-ad2d-34f2d967da44 button.colab-df-convert');\n",
              "      buttonEl.style.display =\n",
              "        google.colab.kernel.accessAllowed ? 'block' : 'none';\n",
              "\n",
              "      async function convertToInteractive(key) {\n",
              "        const element = document.querySelector('#df-d7d7447c-e5a6-40b0-ad2d-34f2d967da44');\n",
              "        const dataTable =\n",
              "          await google.colab.kernel.invokeFunction('convertToInteractive',\n",
              "                                                    [key], {});\n",
              "        if (!dataTable) return;\n",
              "\n",
              "        const docLinkHtml = 'Like what you see? Visit the ' +\n",
              "          '<a target=\"_blank\" href=https://colab.research.google.com/notebooks/data_table.ipynb>data table notebook</a>'\n",
              "          + ' to learn more about interactive tables.';\n",
              "        element.innerHTML = '';\n",
              "        dataTable['output_type'] = 'display_data';\n",
              "        await google.colab.output.renderOutput(dataTable, element);\n",
              "        const docLink = document.createElement('div');\n",
              "        docLink.innerHTML = docLinkHtml;\n",
              "        element.appendChild(docLink);\n",
              "      }\n",
              "    </script>\n",
              "  </div>\n",
              "\n",
              "\n",
              "<div id=\"df-f10e9628-e787-4406-bd4b-95c9172e3f3f\">\n",
              "  <button class=\"colab-df-quickchart\" onclick=\"quickchart('df-f10e9628-e787-4406-bd4b-95c9172e3f3f')\"\n",
              "            title=\"Suggest charts\"\n",
              "            style=\"display:none;\">\n",
              "\n",
              "<svg xmlns=\"http://www.w3.org/2000/svg\" height=\"24px\"viewBox=\"0 0 24 24\"\n",
              "     width=\"24px\">\n",
              "    <g>\n",
              "        <path d=\"M19 3H5c-1.1 0-2 .9-2 2v14c0 1.1.9 2 2 2h14c1.1 0 2-.9 2-2V5c0-1.1-.9-2-2-2zM9 17H7v-7h2v7zm4 0h-2V7h2v10zm4 0h-2v-4h2v4z\"/>\n",
              "    </g>\n",
              "</svg>\n",
              "  </button>\n",
              "\n",
              "<style>\n",
              "  .colab-df-quickchart {\n",
              "      --bg-color: #E8F0FE;\n",
              "      --fill-color: #1967D2;\n",
              "      --hover-bg-color: #E2EBFA;\n",
              "      --hover-fill-color: #174EA6;\n",
              "      --disabled-fill-color: #AAA;\n",
              "      --disabled-bg-color: #DDD;\n",
              "  }\n",
              "\n",
              "  [theme=dark] .colab-df-quickchart {\n",
              "      --bg-color: #3B4455;\n",
              "      --fill-color: #D2E3FC;\n",
              "      --hover-bg-color: #434B5C;\n",
              "      --hover-fill-color: #FFFFFF;\n",
              "      --disabled-bg-color: #3B4455;\n",
              "      --disabled-fill-color: #666;\n",
              "  }\n",
              "\n",
              "  .colab-df-quickchart {\n",
              "    background-color: var(--bg-color);\n",
              "    border: none;\n",
              "    border-radius: 50%;\n",
              "    cursor: pointer;\n",
              "    display: none;\n",
              "    fill: var(--fill-color);\n",
              "    height: 32px;\n",
              "    padding: 0;\n",
              "    width: 32px;\n",
              "  }\n",
              "\n",
              "  .colab-df-quickchart:hover {\n",
              "    background-color: var(--hover-bg-color);\n",
              "    box-shadow: 0 1px 2px rgba(60, 64, 67, 0.3), 0 1px 3px 1px rgba(60, 64, 67, 0.15);\n",
              "    fill: var(--button-hover-fill-color);\n",
              "  }\n",
              "\n",
              "  .colab-df-quickchart-complete:disabled,\n",
              "  .colab-df-quickchart-complete:disabled:hover {\n",
              "    background-color: var(--disabled-bg-color);\n",
              "    fill: var(--disabled-fill-color);\n",
              "    box-shadow: none;\n",
              "  }\n",
              "\n",
              "  .colab-df-spinner {\n",
              "    border: 2px solid var(--fill-color);\n",
              "    border-color: transparent;\n",
              "    border-bottom-color: var(--fill-color);\n",
              "    animation:\n",
              "      spin 1s steps(1) infinite;\n",
              "  }\n",
              "\n",
              "  @keyframes spin {\n",
              "    0% {\n",
              "      border-color: transparent;\n",
              "      border-bottom-color: var(--fill-color);\n",
              "      border-left-color: var(--fill-color);\n",
              "    }\n",
              "    20% {\n",
              "      border-color: transparent;\n",
              "      border-left-color: var(--fill-color);\n",
              "      border-top-color: var(--fill-color);\n",
              "    }\n",
              "    30% {\n",
              "      border-color: transparent;\n",
              "      border-left-color: var(--fill-color);\n",
              "      border-top-color: var(--fill-color);\n",
              "      border-right-color: var(--fill-color);\n",
              "    }\n",
              "    40% {\n",
              "      border-color: transparent;\n",
              "      border-right-color: var(--fill-color);\n",
              "      border-top-color: var(--fill-color);\n",
              "    }\n",
              "    60% {\n",
              "      border-color: transparent;\n",
              "      border-right-color: var(--fill-color);\n",
              "    }\n",
              "    80% {\n",
              "      border-color: transparent;\n",
              "      border-right-color: var(--fill-color);\n",
              "      border-bottom-color: var(--fill-color);\n",
              "    }\n",
              "    90% {\n",
              "      border-color: transparent;\n",
              "      border-bottom-color: var(--fill-color);\n",
              "    }\n",
              "  }\n",
              "</style>\n",
              "\n",
              "  <script>\n",
              "    async function quickchart(key) {\n",
              "      const quickchartButtonEl =\n",
              "        document.querySelector('#' + key + ' button');\n",
              "      quickchartButtonEl.disabled = true;  // To prevent multiple clicks.\n",
              "      quickchartButtonEl.classList.add('colab-df-spinner');\n",
              "      try {\n",
              "        const charts = await google.colab.kernel.invokeFunction(\n",
              "            'suggestCharts', [key], {});\n",
              "      } catch (error) {\n",
              "        console.error('Error during call to suggestCharts:', error);\n",
              "      }\n",
              "      quickchartButtonEl.classList.remove('colab-df-spinner');\n",
              "      quickchartButtonEl.classList.add('colab-df-quickchart-complete');\n",
              "    }\n",
              "    (() => {\n",
              "      let quickchartButtonEl =\n",
              "        document.querySelector('#df-f10e9628-e787-4406-bd4b-95c9172e3f3f button');\n",
              "      quickchartButtonEl.style.display =\n",
              "        google.colab.kernel.accessAllowed ? 'block' : 'none';\n",
              "    })();\n",
              "  </script>\n",
              "</div>\n",
              "\n",
              "    </div>\n",
              "  </div>\n"
            ],
            "application/vnd.google.colaboratory.intrinsic+json": {
              "type": "dataframe",
              "variable_name": "df",
              "summary": "{\n  \"name\": \"df\",\n  \"rows\": 1898,\n  \"fields\": [\n    {\n      \"column\": \"order_id\",\n      \"properties\": {\n        \"dtype\": \"number\",\n        \"std\": 548,\n        \"min\": 1476547,\n        \"max\": 1478444,\n        \"num_unique_values\": 1898,\n        \"samples\": [\n          1477722,\n          1478319,\n          1477650\n        ],\n        \"semantic_type\": \"\",\n        \"description\": \"\"\n      }\n    },\n    {\n      \"column\": \"customer_id\",\n      \"properties\": {\n        \"dtype\": \"number\",\n        \"std\": 113698,\n        \"min\": 1311,\n        \"max\": 405334,\n        \"num_unique_values\": 1200,\n        \"samples\": [\n          351329,\n          49987,\n          345899\n        ],\n        \"semantic_type\": \"\",\n        \"description\": \"\"\n      }\n    },\n    {\n      \"column\": \"restaurant_name\",\n      \"properties\": {\n        \"dtype\": \"category\",\n        \"num_unique_values\": 178,\n        \"samples\": [\n          \"Tortaria\",\n          \"Osteria Morini\",\n          \"Philippe Chow\"\n        ],\n        \"semantic_type\": \"\",\n        \"description\": \"\"\n      }\n    },\n    {\n      \"column\": \"cuisine_type\",\n      \"properties\": {\n        \"dtype\": \"category\",\n        \"num_unique_values\": 14,\n        \"samples\": [\n          \"Thai\",\n          \"French\",\n          \"Korean\"\n        ],\n        \"semantic_type\": \"\",\n        \"description\": \"\"\n      }\n    },\n    {\n      \"column\": \"cost_of_the_order\",\n      \"properties\": {\n        \"dtype\": \"number\",\n        \"std\": 7.48381211004957,\n        \"min\": 4.47,\n        \"max\": 35.41,\n        \"num_unique_values\": 312,\n        \"samples\": [\n          21.29,\n          7.18,\n          13.34\n        ],\n        \"semantic_type\": \"\",\n        \"description\": \"\"\n      }\n    },\n    {\n      \"column\": \"day_of_the_week\",\n      \"properties\": {\n        \"dtype\": \"category\",\n        \"num_unique_values\": 2,\n        \"samples\": [\n          \"Weekday\",\n          \"Weekend\"\n        ],\n        \"semantic_type\": \"\",\n        \"description\": \"\"\n      }\n    },\n    {\n      \"column\": \"rating\",\n      \"properties\": {\n        \"dtype\": \"category\",\n        \"num_unique_values\": 4,\n        \"samples\": [\n          \"5\",\n          \"4\"\n        ],\n        \"semantic_type\": \"\",\n        \"description\": \"\"\n      }\n    },\n    {\n      \"column\": \"food_preparation_time\",\n      \"properties\": {\n        \"dtype\": \"number\",\n        \"std\": 4,\n        \"min\": 20,\n        \"max\": 35,\n        \"num_unique_values\": 16,\n        \"samples\": [\n          25,\n          23\n        ],\n        \"semantic_type\": \"\",\n        \"description\": \"\"\n      }\n    },\n    {\n      \"column\": \"delivery_time\",\n      \"properties\": {\n        \"dtype\": \"number\",\n        \"std\": 4,\n        \"min\": 15,\n        \"max\": 33,\n        \"num_unique_values\": 19,\n        \"samples\": [\n          20,\n          21\n        ],\n        \"semantic_type\": \"\",\n        \"description\": \"\"\n      }\n    }\n  ]\n}"
            }
          },
          "metadata": {},
          "execution_count": 5
        }
      ],
      "source": [
        "# Returns the first 5 rows\n",
        "df.head()"
      ]
    },
    {
      "cell_type": "code",
      "source": [
        "# prompt:\n",
        "\n",
        "# Get the number of rows and columns in the dataset\n",
        "df.shape\n"
      ],
      "metadata": {
        "colab": {
          "base_uri": "https://localhost:8080/"
        },
        "id": "treGnFnJah81",
        "outputId": "009ba526-dce5-4e67-e64b-7309e18cc688"
      },
      "execution_count": 6,
      "outputs": [
        {
          "output_type": "execute_result",
          "data": {
            "text/plain": [
              "(1898, 9)"
            ]
          },
          "metadata": {},
          "execution_count": 6
        }
      ]
    },
    {
      "cell_type": "markdown",
      "metadata": {
        "id": "AeR7rXZF2rdE"
      },
      "source": [
        "### **Question 1:** How many rows and columns are present in the data? [0.5 mark]"
      ]
    },
    {
      "cell_type": "code",
      "execution_count": 7,
      "metadata": {
        "id": "xaLu_bAm2rdE",
        "colab": {
          "base_uri": "https://localhost:8080/"
        },
        "outputId": "e9e094a2-aa2d-4c52-af3d-b4b1605a97bb"
      },
      "outputs": [
        {
          "output_type": "execute_result",
          "data": {
            "text/plain": [
              "(1898, 9)"
            ]
          },
          "metadata": {},
          "execution_count": 7
        }
      ],
      "source": [
        "# Check the shape of the dataset\n",
        "## Fill in the blank\n",
        "df.shape"
      ]
    },
    {
      "cell_type": "markdown",
      "metadata": {
        "id": "-YJkCL112rdF"
      },
      "source": [
        "### **Question 2:** What are the datatypes of the different columns in the dataset? [0.5 mark]"
      ]
    },
    {
      "cell_type": "code",
      "execution_count": 8,
      "metadata": {
        "id": "EUXmdNxe2rdF",
        "colab": {
          "base_uri": "https://localhost:8080/"
        },
        "outputId": "5af660ad-4481-42ae-b2a3-84375d81e4e6"
      },
      "outputs": [
        {
          "output_type": "stream",
          "name": "stdout",
          "text": [
            "<class 'pandas.core.frame.DataFrame'>\n",
            "RangeIndex: 1898 entries, 0 to 1897\n",
            "Data columns (total 9 columns):\n",
            " #   Column                 Non-Null Count  Dtype  \n",
            "---  ------                 --------------  -----  \n",
            " 0   order_id               1898 non-null   int64  \n",
            " 1   customer_id            1898 non-null   int64  \n",
            " 2   restaurant_name        1898 non-null   object \n",
            " 3   cuisine_type           1898 non-null   object \n",
            " 4   cost_of_the_order      1898 non-null   float64\n",
            " 5   day_of_the_week        1898 non-null   object \n",
            " 6   rating                 1898 non-null   object \n",
            " 7   food_preparation_time  1898 non-null   int64  \n",
            " 8   delivery_time          1898 non-null   int64  \n",
            "dtypes: float64(1), int64(4), object(4)\n",
            "memory usage: 133.6+ KB\n"
          ]
        }
      ],
      "source": [
        "df.info()"
      ]
    },
    {
      "cell_type": "markdown",
      "metadata": {
        "id": "Atn8lGeE2rdF"
      },
      "source": [
        "### **Question 3:** Are there any missing values in the data? If yes, treat them using an appropriate method.  [1 Mark]"
      ]
    },
    {
      "cell_type": "code",
      "execution_count": 9,
      "metadata": {
        "id": "kZbMrwFC2rdG",
        "colab": {
          "base_uri": "https://localhost:8080/"
        },
        "outputId": "54086670-5c61-44bd-f8d8-985b0410d5be"
      },
      "outputs": [
        {
          "output_type": "execute_result",
          "data": {
            "text/plain": [
              "order_id                 0\n",
              "customer_id              0\n",
              "restaurant_name          0\n",
              "cuisine_type             0\n",
              "cost_of_the_order        0\n",
              "day_of_the_week          0\n",
              "rating                   0\n",
              "food_preparation_time    0\n",
              "delivery_time            0\n",
              "dtype: int64"
            ]
          },
          "metadata": {},
          "execution_count": 9
        }
      ],
      "source": [
        "# Checking for missing values in the data\n",
        "#Write the appropriate function to print the sum of null values for each column\n",
        "df.isnull().sum()"
      ]
    },
    {
      "cell_type": "markdown",
      "metadata": {
        "id": "krjqvuKv2rdG"
      },
      "source": [
        "### **Question 4:** Check the statistical summary of the data. What is the minimum, average, and maximum time it takes for food to be prepared once an order is placed? [2 marks]"
      ]
    },
    {
      "cell_type": "code",
      "execution_count": 10,
      "metadata": {
        "id": "MDZkL24f2rdG",
        "colab": {
          "base_uri": "https://localhost:8080/",
          "height": 300
        },
        "outputId": "0365b424-8db2-4d34-f162-7074ebb906b9"
      },
      "outputs": [
        {
          "output_type": "execute_result",
          "data": {
            "text/plain": [
              "           order_id    customer_id  cost_of_the_order  food_preparation_time  \\\n",
              "count  1.898000e+03    1898.000000        1898.000000            1898.000000   \n",
              "mean   1.477496e+06  171168.478398          16.498851              27.371970   \n",
              "std    5.480497e+02  113698.139743           7.483812               4.632481   \n",
              "min    1.476547e+06    1311.000000           4.470000              20.000000   \n",
              "25%    1.477021e+06   77787.750000          12.080000              23.000000   \n",
              "50%    1.477496e+06  128600.000000          14.140000              27.000000   \n",
              "75%    1.477970e+06  270525.000000          22.297500              31.000000   \n",
              "max    1.478444e+06  405334.000000          35.410000              35.000000   \n",
              "\n",
              "       delivery_time  \n",
              "count    1898.000000  \n",
              "mean       24.161749  \n",
              "std         4.972637  \n",
              "min        15.000000  \n",
              "25%        20.000000  \n",
              "50%        25.000000  \n",
              "75%        28.000000  \n",
              "max        33.000000  "
            ],
            "text/html": [
              "\n",
              "  <div id=\"df-cbb74bc8-df57-4e71-8e80-f0ddea06022a\" class=\"colab-df-container\">\n",
              "    <div>\n",
              "<style scoped>\n",
              "    .dataframe tbody tr th:only-of-type {\n",
              "        vertical-align: middle;\n",
              "    }\n",
              "\n",
              "    .dataframe tbody tr th {\n",
              "        vertical-align: top;\n",
              "    }\n",
              "\n",
              "    .dataframe thead th {\n",
              "        text-align: right;\n",
              "    }\n",
              "</style>\n",
              "<table border=\"1\" class=\"dataframe\">\n",
              "  <thead>\n",
              "    <tr style=\"text-align: right;\">\n",
              "      <th></th>\n",
              "      <th>order_id</th>\n",
              "      <th>customer_id</th>\n",
              "      <th>cost_of_the_order</th>\n",
              "      <th>food_preparation_time</th>\n",
              "      <th>delivery_time</th>\n",
              "    </tr>\n",
              "  </thead>\n",
              "  <tbody>\n",
              "    <tr>\n",
              "      <th>count</th>\n",
              "      <td>1.898000e+03</td>\n",
              "      <td>1898.000000</td>\n",
              "      <td>1898.000000</td>\n",
              "      <td>1898.000000</td>\n",
              "      <td>1898.000000</td>\n",
              "    </tr>\n",
              "    <tr>\n",
              "      <th>mean</th>\n",
              "      <td>1.477496e+06</td>\n",
              "      <td>171168.478398</td>\n",
              "      <td>16.498851</td>\n",
              "      <td>27.371970</td>\n",
              "      <td>24.161749</td>\n",
              "    </tr>\n",
              "    <tr>\n",
              "      <th>std</th>\n",
              "      <td>5.480497e+02</td>\n",
              "      <td>113698.139743</td>\n",
              "      <td>7.483812</td>\n",
              "      <td>4.632481</td>\n",
              "      <td>4.972637</td>\n",
              "    </tr>\n",
              "    <tr>\n",
              "      <th>min</th>\n",
              "      <td>1.476547e+06</td>\n",
              "      <td>1311.000000</td>\n",
              "      <td>4.470000</td>\n",
              "      <td>20.000000</td>\n",
              "      <td>15.000000</td>\n",
              "    </tr>\n",
              "    <tr>\n",
              "      <th>25%</th>\n",
              "      <td>1.477021e+06</td>\n",
              "      <td>77787.750000</td>\n",
              "      <td>12.080000</td>\n",
              "      <td>23.000000</td>\n",
              "      <td>20.000000</td>\n",
              "    </tr>\n",
              "    <tr>\n",
              "      <th>50%</th>\n",
              "      <td>1.477496e+06</td>\n",
              "      <td>128600.000000</td>\n",
              "      <td>14.140000</td>\n",
              "      <td>27.000000</td>\n",
              "      <td>25.000000</td>\n",
              "    </tr>\n",
              "    <tr>\n",
              "      <th>75%</th>\n",
              "      <td>1.477970e+06</td>\n",
              "      <td>270525.000000</td>\n",
              "      <td>22.297500</td>\n",
              "      <td>31.000000</td>\n",
              "      <td>28.000000</td>\n",
              "    </tr>\n",
              "    <tr>\n",
              "      <th>max</th>\n",
              "      <td>1.478444e+06</td>\n",
              "      <td>405334.000000</td>\n",
              "      <td>35.410000</td>\n",
              "      <td>35.000000</td>\n",
              "      <td>33.000000</td>\n",
              "    </tr>\n",
              "  </tbody>\n",
              "</table>\n",
              "</div>\n",
              "    <div class=\"colab-df-buttons\">\n",
              "\n",
              "  <div class=\"colab-df-container\">\n",
              "    <button class=\"colab-df-convert\" onclick=\"convertToInteractive('df-cbb74bc8-df57-4e71-8e80-f0ddea06022a')\"\n",
              "            title=\"Convert this dataframe to an interactive table.\"\n",
              "            style=\"display:none;\">\n",
              "\n",
              "  <svg xmlns=\"http://www.w3.org/2000/svg\" height=\"24px\" viewBox=\"0 -960 960 960\">\n",
              "    <path d=\"M120-120v-720h720v720H120Zm60-500h600v-160H180v160Zm220 220h160v-160H400v160Zm0 220h160v-160H400v160ZM180-400h160v-160H180v160Zm440 0h160v-160H620v160ZM180-180h160v-160H180v160Zm440 0h160v-160H620v160Z\"/>\n",
              "  </svg>\n",
              "    </button>\n",
              "\n",
              "  <style>\n",
              "    .colab-df-container {\n",
              "      display:flex;\n",
              "      gap: 12px;\n",
              "    }\n",
              "\n",
              "    .colab-df-convert {\n",
              "      background-color: #E8F0FE;\n",
              "      border: none;\n",
              "      border-radius: 50%;\n",
              "      cursor: pointer;\n",
              "      display: none;\n",
              "      fill: #1967D2;\n",
              "      height: 32px;\n",
              "      padding: 0 0 0 0;\n",
              "      width: 32px;\n",
              "    }\n",
              "\n",
              "    .colab-df-convert:hover {\n",
              "      background-color: #E2EBFA;\n",
              "      box-shadow: 0px 1px 2px rgba(60, 64, 67, 0.3), 0px 1px 3px 1px rgba(60, 64, 67, 0.15);\n",
              "      fill: #174EA6;\n",
              "    }\n",
              "\n",
              "    .colab-df-buttons div {\n",
              "      margin-bottom: 4px;\n",
              "    }\n",
              "\n",
              "    [theme=dark] .colab-df-convert {\n",
              "      background-color: #3B4455;\n",
              "      fill: #D2E3FC;\n",
              "    }\n",
              "\n",
              "    [theme=dark] .colab-df-convert:hover {\n",
              "      background-color: #434B5C;\n",
              "      box-shadow: 0px 1px 3px 1px rgba(0, 0, 0, 0.15);\n",
              "      filter: drop-shadow(0px 1px 2px rgba(0, 0, 0, 0.3));\n",
              "      fill: #FFFFFF;\n",
              "    }\n",
              "  </style>\n",
              "\n",
              "    <script>\n",
              "      const buttonEl =\n",
              "        document.querySelector('#df-cbb74bc8-df57-4e71-8e80-f0ddea06022a button.colab-df-convert');\n",
              "      buttonEl.style.display =\n",
              "        google.colab.kernel.accessAllowed ? 'block' : 'none';\n",
              "\n",
              "      async function convertToInteractive(key) {\n",
              "        const element = document.querySelector('#df-cbb74bc8-df57-4e71-8e80-f0ddea06022a');\n",
              "        const dataTable =\n",
              "          await google.colab.kernel.invokeFunction('convertToInteractive',\n",
              "                                                    [key], {});\n",
              "        if (!dataTable) return;\n",
              "\n",
              "        const docLinkHtml = 'Like what you see? Visit the ' +\n",
              "          '<a target=\"_blank\" href=https://colab.research.google.com/notebooks/data_table.ipynb>data table notebook</a>'\n",
              "          + ' to learn more about interactive tables.';\n",
              "        element.innerHTML = '';\n",
              "        dataTable['output_type'] = 'display_data';\n",
              "        await google.colab.output.renderOutput(dataTable, element);\n",
              "        const docLink = document.createElement('div');\n",
              "        docLink.innerHTML = docLinkHtml;\n",
              "        element.appendChild(docLink);\n",
              "      }\n",
              "    </script>\n",
              "  </div>\n",
              "\n",
              "\n",
              "<div id=\"df-91f95d62-0739-47b0-b29a-8543bc6d57c1\">\n",
              "  <button class=\"colab-df-quickchart\" onclick=\"quickchart('df-91f95d62-0739-47b0-b29a-8543bc6d57c1')\"\n",
              "            title=\"Suggest charts\"\n",
              "            style=\"display:none;\">\n",
              "\n",
              "<svg xmlns=\"http://www.w3.org/2000/svg\" height=\"24px\"viewBox=\"0 0 24 24\"\n",
              "     width=\"24px\">\n",
              "    <g>\n",
              "        <path d=\"M19 3H5c-1.1 0-2 .9-2 2v14c0 1.1.9 2 2 2h14c1.1 0 2-.9 2-2V5c0-1.1-.9-2-2-2zM9 17H7v-7h2v7zm4 0h-2V7h2v10zm4 0h-2v-4h2v4z\"/>\n",
              "    </g>\n",
              "</svg>\n",
              "  </button>\n",
              "\n",
              "<style>\n",
              "  .colab-df-quickchart {\n",
              "      --bg-color: #E8F0FE;\n",
              "      --fill-color: #1967D2;\n",
              "      --hover-bg-color: #E2EBFA;\n",
              "      --hover-fill-color: #174EA6;\n",
              "      --disabled-fill-color: #AAA;\n",
              "      --disabled-bg-color: #DDD;\n",
              "  }\n",
              "\n",
              "  [theme=dark] .colab-df-quickchart {\n",
              "      --bg-color: #3B4455;\n",
              "      --fill-color: #D2E3FC;\n",
              "      --hover-bg-color: #434B5C;\n",
              "      --hover-fill-color: #FFFFFF;\n",
              "      --disabled-bg-color: #3B4455;\n",
              "      --disabled-fill-color: #666;\n",
              "  }\n",
              "\n",
              "  .colab-df-quickchart {\n",
              "    background-color: var(--bg-color);\n",
              "    border: none;\n",
              "    border-radius: 50%;\n",
              "    cursor: pointer;\n",
              "    display: none;\n",
              "    fill: var(--fill-color);\n",
              "    height: 32px;\n",
              "    padding: 0;\n",
              "    width: 32px;\n",
              "  }\n",
              "\n",
              "  .colab-df-quickchart:hover {\n",
              "    background-color: var(--hover-bg-color);\n",
              "    box-shadow: 0 1px 2px rgba(60, 64, 67, 0.3), 0 1px 3px 1px rgba(60, 64, 67, 0.15);\n",
              "    fill: var(--button-hover-fill-color);\n",
              "  }\n",
              "\n",
              "  .colab-df-quickchart-complete:disabled,\n",
              "  .colab-df-quickchart-complete:disabled:hover {\n",
              "    background-color: var(--disabled-bg-color);\n",
              "    fill: var(--disabled-fill-color);\n",
              "    box-shadow: none;\n",
              "  }\n",
              "\n",
              "  .colab-df-spinner {\n",
              "    border: 2px solid var(--fill-color);\n",
              "    border-color: transparent;\n",
              "    border-bottom-color: var(--fill-color);\n",
              "    animation:\n",
              "      spin 1s steps(1) infinite;\n",
              "  }\n",
              "\n",
              "  @keyframes spin {\n",
              "    0% {\n",
              "      border-color: transparent;\n",
              "      border-bottom-color: var(--fill-color);\n",
              "      border-left-color: var(--fill-color);\n",
              "    }\n",
              "    20% {\n",
              "      border-color: transparent;\n",
              "      border-left-color: var(--fill-color);\n",
              "      border-top-color: var(--fill-color);\n",
              "    }\n",
              "    30% {\n",
              "      border-color: transparent;\n",
              "      border-left-color: var(--fill-color);\n",
              "      border-top-color: var(--fill-color);\n",
              "      border-right-color: var(--fill-color);\n",
              "    }\n",
              "    40% {\n",
              "      border-color: transparent;\n",
              "      border-right-color: var(--fill-color);\n",
              "      border-top-color: var(--fill-color);\n",
              "    }\n",
              "    60% {\n",
              "      border-color: transparent;\n",
              "      border-right-color: var(--fill-color);\n",
              "    }\n",
              "    80% {\n",
              "      border-color: transparent;\n",
              "      border-right-color: var(--fill-color);\n",
              "      border-bottom-color: var(--fill-color);\n",
              "    }\n",
              "    90% {\n",
              "      border-color: transparent;\n",
              "      border-bottom-color: var(--fill-color);\n",
              "    }\n",
              "  }\n",
              "</style>\n",
              "\n",
              "  <script>\n",
              "    async function quickchart(key) {\n",
              "      const quickchartButtonEl =\n",
              "        document.querySelector('#' + key + ' button');\n",
              "      quickchartButtonEl.disabled = true;  // To prevent multiple clicks.\n",
              "      quickchartButtonEl.classList.add('colab-df-spinner');\n",
              "      try {\n",
              "        const charts = await google.colab.kernel.invokeFunction(\n",
              "            'suggestCharts', [key], {});\n",
              "      } catch (error) {\n",
              "        console.error('Error during call to suggestCharts:', error);\n",
              "      }\n",
              "      quickchartButtonEl.classList.remove('colab-df-spinner');\n",
              "      quickchartButtonEl.classList.add('colab-df-quickchart-complete');\n",
              "    }\n",
              "    (() => {\n",
              "      let quickchartButtonEl =\n",
              "        document.querySelector('#df-91f95d62-0739-47b0-b29a-8543bc6d57c1 button');\n",
              "      quickchartButtonEl.style.display =\n",
              "        google.colab.kernel.accessAllowed ? 'block' : 'none';\n",
              "    })();\n",
              "  </script>\n",
              "</div>\n",
              "\n",
              "    </div>\n",
              "  </div>\n"
            ],
            "application/vnd.google.colaboratory.intrinsic+json": {
              "type": "dataframe",
              "summary": "{\n  \"name\": \"df\",\n  \"rows\": 8,\n  \"fields\": [\n    {\n      \"column\": \"order_id\",\n      \"properties\": {\n        \"dtype\": \"number\",\n        \"std\": 683381.6954349227,\n        \"min\": 548.0497240214614,\n        \"max\": 1478444.0,\n        \"num_unique_values\": 7,\n        \"samples\": [\n          1898.0,\n          1477495.5,\n          1477969.75\n        ],\n        \"semantic_type\": \"\",\n        \"description\": \"\"\n      }\n    },\n    {\n      \"column\": \"customer_id\",\n      \"properties\": {\n        \"dtype\": \"number\",\n        \"std\": 136848.58768663486,\n        \"min\": 1311.0,\n        \"max\": 405334.0,\n        \"num_unique_values\": 8,\n        \"samples\": [\n          171168.478398314,\n          128600.0,\n          1898.0\n        ],\n        \"semantic_type\": \"\",\n        \"description\": \"\"\n      }\n    },\n    {\n      \"column\": \"cost_of_the_order\",\n      \"properties\": {\n        \"dtype\": \"number\",\n        \"std\": 665.43708115231,\n        \"min\": 4.47,\n        \"max\": 1898.0,\n        \"num_unique_values\": 8,\n        \"samples\": [\n          16.498851422550054,\n          14.14,\n          1898.0\n        ],\n        \"semantic_type\": \"\",\n        \"description\": \"\"\n      }\n    },\n    {\n      \"column\": \"food_preparation_time\",\n      \"properties\": {\n        \"dtype\": \"number\",\n        \"std\": 662.6216207031504,\n        \"min\": 4.6324807759288555,\n        \"max\": 1898.0,\n        \"num_unique_values\": 8,\n        \"samples\": [\n          27.371970495258168,\n          27.0,\n          1898.0\n        ],\n        \"semantic_type\": \"\",\n        \"description\": \"\"\n      }\n    },\n    {\n      \"column\": \"delivery_time\",\n      \"properties\": {\n        \"dtype\": \"number\",\n        \"std\": 663.516466506826,\n        \"min\": 4.972636933991106,\n        \"max\": 1898.0,\n        \"num_unique_values\": 8,\n        \"samples\": [\n          24.161749209694417,\n          25.0,\n          1898.0\n        ],\n        \"semantic_type\": \"\",\n        \"description\": \"\"\n      }\n    }\n  ]\n}"
            }
          },
          "metadata": {},
          "execution_count": 10
        }
      ],
      "source": [
        "# Get the summary statistics of the numerical data\n",
        " ## Write the appropriate function to print the statitical summary of the data (Hint - you have seen this in the case studies before)\n",
        "df.describe()\n"
      ]
    },
    {
      "cell_type": "markdown",
      "metadata": {
        "id": "LDlbXZWG2rdH"
      },
      "source": [
        "### **Question 5:** How many orders are not rated? [1 mark]"
      ]
    },
    {
      "cell_type": "code",
      "execution_count": 11,
      "metadata": {
        "id": "RUJo1me22rdH",
        "colab": {
          "base_uri": "https://localhost:8080/"
        },
        "outputId": "59dc174c-a16f-448b-d31f-9172a2fd46a8"
      },
      "outputs": [
        {
          "output_type": "execute_result",
          "data": {
            "text/plain": [
              "736"
            ]
          },
          "metadata": {},
          "execution_count": 11
        }
      ],
      "source": [
        "## Complete the code\n",
        "df['rating'].value_counts()['Not given']"
      ]
    },
    {
      "cell_type": "markdown",
      "metadata": {
        "id": "LUh8hTiW2rdH"
      },
      "source": [
        "### Exploratory Data Analysis (EDA)"
      ]
    },
    {
      "cell_type": "markdown",
      "metadata": {
        "id": "2Dl2aL1W2rdI"
      },
      "source": [
        "### Univariate Analysis"
      ]
    },
    {
      "cell_type": "markdown",
      "metadata": {
        "id": "gxBiurJ-2rdI"
      },
      "source": [
        "### **Question 6:** Explore all the variables and provide observations on their distributions. (Generally, histograms, boxplots, countplots, etc. are used for univariate exploration.) [9 marks]"
      ]
    },
    {
      "cell_type": "markdown",
      "metadata": {
        "id": "TXEjEAXqbZmQ"
      },
      "source": [
        "#### Order ID"
      ]
    },
    {
      "cell_type": "code",
      "execution_count": 22,
      "metadata": {
        "id": "cmmmjUyebZmQ",
        "colab": {
          "base_uri": "https://localhost:8080/"
        },
        "outputId": "87af4657-9e70-40aa-bb4c-9fd1ce34c64e"
      },
      "outputs": [
        {
          "output_type": "execute_result",
          "data": {
            "text/plain": [
              "1898"
            ]
          },
          "metadata": {},
          "execution_count": 22
        }
      ],
      "source": [
        "# check unique order ID\n",
        "df['order_id'].nunique()"
      ]
    },
    {
      "cell_type": "markdown",
      "metadata": {
        "id": "ts6l2h0abZmQ"
      },
      "source": [
        "#### Customer ID"
      ]
    },
    {
      "cell_type": "code",
      "execution_count": 24,
      "metadata": {
        "id": "yZRW2FBSbZmQ",
        "colab": {
          "base_uri": "https://localhost:8080/"
        },
        "outputId": "965eb1a1-e362-4741-e7d3-4303f0eacb33"
      },
      "outputs": [
        {
          "output_type": "execute_result",
          "data": {
            "text/plain": [
              "1200"
            ]
          },
          "metadata": {},
          "execution_count": 24
        }
      ],
      "source": [
        "# check unique customer ID\n",
        "## Complete the code to find out number of unique Customer ID\n",
        "df['customer_id'].nunique()"
      ]
    },
    {
      "cell_type": "markdown",
      "metadata": {
        "id": "mgv5gIIEbZmR"
      },
      "source": [
        "#### Restaurant name"
      ]
    },
    {
      "cell_type": "code",
      "execution_count": 26,
      "metadata": {
        "id": "GYGzUuzcbZmR",
        "colab": {
          "base_uri": "https://localhost:8080/"
        },
        "outputId": "9c8b7794-3a22-4312-9284-7ef5734d556b"
      },
      "outputs": [
        {
          "output_type": "execute_result",
          "data": {
            "text/plain": [
              "178"
            ]
          },
          "metadata": {},
          "execution_count": 26
        }
      ],
      "source": [
        "# check unique Restaurant Name\n",
        "## Complete the code to find out number of unique Restaurant Name\n",
        "df['restaurant_name'].nunique()"
      ]
    },
    {
      "cell_type": "markdown",
      "metadata": {
        "id": "X7jR8GHN2rdK"
      },
      "source": [
        "#### Cuisine type"
      ]
    },
    {
      "cell_type": "code",
      "execution_count": 27,
      "metadata": {
        "id": "uFd2adxc2rdK",
        "colab": {
          "base_uri": "https://localhost:8080/"
        },
        "outputId": "ae3efce8-743b-4739-e025-79f2178c2eb0"
      },
      "outputs": [
        {
          "output_type": "execute_result",
          "data": {
            "text/plain": [
              "14"
            ]
          },
          "metadata": {},
          "execution_count": 27
        }
      ],
      "source": [
        "# Check unique cuisine type\n",
        "## Complete the code to find out  number of  unique cuisine type\n",
        "df['cuisine_type'].nunique()"
      ]
    },
    {
      "cell_type": "code",
      "execution_count": 28,
      "metadata": {
        "id": "4JHi590P2rdK",
        "scrolled": true,
        "colab": {
          "base_uri": "https://localhost:8080/",
          "height": 482
        },
        "outputId": "a1b0d488-8662-4d78-d638-c594d84d9bde"
      },
      "outputs": [
        {
          "output_type": "execute_result",
          "data": {
            "text/plain": [
              "<Axes: xlabel='cuisine_type', ylabel='count'>"
            ]
          },
          "metadata": {},
          "execution_count": 28
        },
        {
          "output_type": "display_data",
          "data": {
            "text/plain": [
              "<Figure size 1500x500 with 1 Axes>"
            ],
            "image/png": "[encoded data removed]"
          },
          "metadata": {}
        }
      ],
      "source": [
        "plt.figure(figsize = (15,5))\n",
        "sns.countplot(data = df, x = 'cuisine_type') ## Create a countplot for cuisine type."
      ]
    },
    {
      "cell_type": "markdown",
      "metadata": {
        "id": "fmWW_qb42rdL"
      },
      "source": [
        "#### Cost of the order"
      ]
    },
    {
      "cell_type": "code",
      "execution_count": 29,
      "metadata": {
        "id": "kq1lIbf42rdL",
        "colab": {
          "base_uri": "https://localhost:8080/",
          "height": 883
        },
        "outputId": "9f7a38a7-a3d9-46bb-9b9e-3de5e0ba88f1"
      },
      "outputs": [
        {
          "output_type": "display_data",
          "data": {
            "text/plain": [
              "<Figure size 640x480 with 1 Axes>"
            ],
            "image/png": "[encoded data removed]"
          },
          "metadata": {}
        },
        {
          "output_type": "display_data",
          "data": {
            "text/plain": [
              "<Figure size 640x480 with 1 Axes>"
            ],
            "image/png": "[encoded data removed]"
          },
          "metadata": {}
        }
      ],
      "source": [
        "sns.histplot(data=df,x='cost_of_the_order') ## Histogram for the cost of order\n",
        "plt.show()\n",
        "sns.boxplot(data=df,x='cost_of_the_order') ## Boxplot for the cost of order\n",
        "plt.show()"
      ]
    },
    {
      "cell_type": "markdown",
      "metadata": {
        "id": "p34KqEqx2rdL"
      },
      "source": [
        "#### Day of the week"
      ]
    },
    {
      "cell_type": "code",
      "execution_count": 30,
      "metadata": {
        "id": "KBMjgXjv2rdL",
        "colab": {
          "base_uri": "https://localhost:8080/"
        },
        "outputId": "5db004b7-038b-4da4-b3e2-935da145a3c5"
      },
      "outputs": [
        {
          "output_type": "execute_result",
          "data": {
            "text/plain": [
              "2"
            ]
          },
          "metadata": {},
          "execution_count": 30
        }
      ],
      "source": [
        "# # Check the unique values\n",
        "## Complete the code to check unique values for the 'day_of_the_week' column\n",
        "df['day_of_the_week'].nunique()"
      ]
    },
    {
      "cell_type": "code",
      "execution_count": 31,
      "metadata": {
        "id": "Q5jvwJkZ2rdL",
        "colab": {
          "base_uri": "https://localhost:8080/",
          "height": 467
        },
        "outputId": "3ef6549c-2c4c-41c1-f2e6-a5b16f439b34"
      },
      "outputs": [
        {
          "output_type": "execute_result",
          "data": {
            "text/plain": [
              "<Axes: xlabel='day_of_the_week', ylabel='count'>"
            ]
          },
          "metadata": {},
          "execution_count": 31
        },
        {
          "output_type": "display_data",
          "data": {
            "text/plain": [
              "<Figure size 640x480 with 1 Axes>"
            ],
            "image/png": "[encoded data removed]"
          },
          "metadata": {}
        }
      ],
      "source": [
        "## Complete the code to plot a bar graph for 'day_of_the_week' column\n",
        "sns.countplot(data = df, x='day_of_the_week' )"
      ]
    },
    {
      "cell_type": "markdown",
      "metadata": {
        "id": "1oOW_lzO2rdL"
      },
      "source": [
        "#### Rating"
      ]
    },
    {
      "cell_type": "code",
      "execution_count": 34,
      "metadata": {
        "id": "TNxjskCF2rdL",
        "scrolled": true,
        "colab": {
          "base_uri": "https://localhost:8080/"
        },
        "outputId": "ce59b895-217f-4c65-9723-040e6fb2d183"
      },
      "outputs": [
        {
          "output_type": "execute_result",
          "data": {
            "text/plain": [
              "4"
            ]
          },
          "metadata": {},
          "execution_count": 34
        }
      ],
      "source": [
        "# Check the unique values\n",
        "## Complete the code to check unique values for the 'rating' column\n",
        "df['rating'].nunique()"
      ]
    },
    {
      "cell_type": "code",
      "execution_count": 35,
      "metadata": {
        "id": "aP_djdHY2rdM",
        "scrolled": true,
        "colab": {
          "base_uri": "https://localhost:8080/",
          "height": 466
        },
        "outputId": "b58d137a-b82c-4e2d-dbb6-d6f3b9a99764"
      },
      "outputs": [
        {
          "output_type": "execute_result",
          "data": {
            "text/plain": [
              "<Axes: xlabel='rating', ylabel='count'>"
            ]
          },
          "metadata": {},
          "execution_count": 35
        },
        {
          "output_type": "display_data",
          "data": {
            "text/plain": [
              "<Figure size 640x480 with 1 Axes>"
            ],
            "image/png": "[encoded data removed]"
          },
          "metadata": {}
        }
      ],
      "source": [
        "## Complete the code to plot bar graph for 'rating' column\n",
        "sns.countplot(data = df, x = 'rating')"
      ]
    },
    {
      "cell_type": "markdown",
      "metadata": {
        "id": "OP1gYWnR2rdM"
      },
      "source": [
        "#### Food Preparation time"
      ]
    },
    {
      "cell_type": "code",
      "execution_count": 5,
      "metadata": {
        "id": "TYiF3h3t2rdM",
        "scrolled": true,
        "colab": {
          "base_uri": "https://localhost:8080/",
          "height": 883
        },
        "outputId": "f99a71d5-bffb-4e31-d350-5ac52d1348ef"
      },
      "outputs": [
        {
          "output_type": "display_data",
          "data": {
            "text/plain": [
              "<Figure size 640x480 with 1 Axes>"
            ],
            "image/png": "[encoded data removed]"
          },
          "metadata": {}
        },
        {
          "output_type": "display_data",
          "data": {
            "text/plain": [
              "<Figure size 640x480 with 1 Axes>"
            ],
            "image/png": "[encoded data removed]"
          },
          "metadata": {}
        }
      ],
      "source": [
        "## Complete the code to plot the histogram for the cost of order\n",
        "sns.histplot(data=df,x='cost_of_the_order')\n",
        "plt.show()\n",
        "## Complete the code to plot the boxplot for the cost of order\n",
        "sns.boxplot(data=df,x='cost_of_the_order')\n",
        "plt.show()"
      ]
    },
    {
      "cell_type": "markdown",
      "metadata": {
        "id": "ENW0PF5b2rdM"
      },
      "source": [
        "#### Delivery time"
      ]
    },
    {
      "cell_type": "code",
      "execution_count": 6,
      "metadata": {
        "id": "_1ZcT_SM2rdM",
        "scrolled": true,
        "colab": {
          "base_uri": "https://localhost:8080/",
          "height": 883
        },
        "outputId": "37247937-6009-4e3c-d0d4-0d7dbec14c71"
      },
      "outputs": [
        {
          "output_type": "display_data",
          "data": {
            "text/plain": [
              "<Figure size 640x480 with 1 Axes>"
            ],
            "image/png": "[encoded data removed]"
          },
          "metadata": {}
        },
        {
          "output_type": "display_data",
          "data": {
            "text/plain": [
              "<Figure size 640x480 with 1 Axes>"
            ],
            "image/png": "[encoded data removed]"
          },
          "metadata": {}
        }
      ],
      "source": [
        "## Complete the code to plot the histogram for the delivery time\n",
        "sns.histplot(data=df,x='delivery_time')\n",
        "plt.show()\n",
        "## Complete the code to plot the boxplot for the delivery time\n",
        "sns.boxplot(data=df,x='delivery_time')\n",
        "plt.show()"
      ]
    },
    {
      "cell_type": "markdown",
      "metadata": {
        "id": "HMwsI8f32rdM"
      },
      "source": [
        "### **Question 7:** Which are the top 5 restaurants in terms of the number of orders received? [1 mark]"
      ]
    },
    {
      "cell_type": "code",
      "execution_count": 7,
      "metadata": {
        "id": "OLQISNlc2rdM",
        "colab": {
          "base_uri": "https://localhost:8080/"
        },
        "outputId": "7432dba8-9d35-42d0-dac7-6aeccbe52512"
      },
      "outputs": [
        {
          "output_type": "execute_result",
          "data": {
            "text/plain": [
              "restaurant_name\n",
              "Shake Shack                  219\n",
              "The Meatball Shop            132\n",
              "Blue Ribbon Sushi            119\n",
              "Blue Ribbon Fried Chicken     96\n",
              "Parm                          68\n",
              "Name: count, dtype: int64"
            ]
          },
          "metadata": {},
          "execution_count": 7
        }
      ],
      "source": [
        "# Get top 5 restaurants with highest number of orders\n",
        "## Complete the code\n",
        "df['restaurant_name'].value_counts().head(5)"
      ]
    },
    {
      "cell_type": "markdown",
      "metadata": {
        "id": "OV26KAC42rdN"
      },
      "source": [
        "### **Question 8:** Which is the most popular cuisine on weekends? [1 mark]"
      ]
    },
    {
      "cell_type": "code",
      "execution_count": 11,
      "metadata": {
        "id": "BqL62Kuu2rdN",
        "colab": {
          "base_uri": "https://localhost:8080/"
        },
        "outputId": "6aceafa4-2fee-4f33-928c-0eed8d1c4933"
      },
      "outputs": [
        {
          "output_type": "execute_result",
          "data": {
            "text/plain": [
              "cuisine_type\n",
              "American          415\n",
              "Japanese          335\n",
              "Italian           207\n",
              "Chinese           163\n",
              "Mexican            53\n",
              "Indian             49\n",
              "Mediterranean      32\n",
              "Middle Eastern     32\n",
              "Thai               15\n",
              "French             13\n",
              "Korean             11\n",
              "Southern           11\n",
              "Spanish            11\n",
              "Vietnamese          4\n",
              "Name: count, dtype: int64"
            ]
          },
          "metadata": {},
          "execution_count": 11
        }
      ],
      "source": [
        "# Get most popular cuisine on weekends\n",
        "df_weekend = df[df['day_of_the_week'] == 'Weekend']\n",
        "## Complete the code to check unique values for the cuisine type on weekend\n",
        "df_weekend['cuisine_type'].value_counts()"
      ]
    },
    {
      "cell_type": "markdown",
      "metadata": {
        "id": "UPFNE6Da2rdN"
      },
      "source": [
        "### **Question 9:** What percentage of the orders cost more than 20 dollars? [2 marks]\n"
      ]
    },
    {
      "cell_type": "code",
      "execution_count": null,
      "metadata": {
        "id": "gHlH53rJ2rdN"
      },
      "outputs": [],
      "source": [
        "# Get orders that cost above 20 dollars\n",
        "df_greater_than_20 = df[df['_______']>20] ## Write the appropriate column name to get the orders having cost above $20\n",
        "\n",
        "# Calculate the number of total orders where the cost is above 20 dollars\n",
        "print('The number of total orders that cost above 20 dollars is:', df_greater_than_20.shape[0])\n",
        "\n",
        "# Calculate percentage of such orders in the dataset\n",
        "percentage = (df_greater_than_20.shape[0] / df.shape[0]) * 100\n",
        "\n",
        "print(\"Percentage of orders above 20 dollars:\", round(percentage, 2), '%')"
      ]
    },
    {
      "cell_type": "markdown",
      "metadata": {
        "id": "rmOXTij42rdN"
      },
      "source": [
        "### **Question 10:** What is the mean order delivery time? [1 mark]"
      ]
    },
    {
      "cell_type": "code",
      "execution_count": null,
      "metadata": {
        "id": "733fsOoO2rdN"
      },
      "outputs": [],
      "source": [
        "# Get the mean delivery time\n",
        "mean_del_time = df['delivery_time'].'_______'  ## Write the appropriate function to obtain the mean delivery time\n",
        "\n",
        "print('The mean delivery time for this dataset is', round(mean_del_time, 2), 'minutes')"
      ]
    },
    {
      "cell_type": "markdown",
      "metadata": {
        "id": "7C_G-BEy2rdO"
      },
      "source": [
        "### **Question 11:** The company has decided to give 20% discount vouchers to the top 5 most frequent customers. Find the IDs of these customers and the number of orders they placed. [1 mark]"
      ]
    },
    {
      "cell_type": "code",
      "execution_count": null,
      "metadata": {
        "id": "U-husHb6F5lY"
      },
      "outputs": [],
      "source": [
        "# Get the counts of  each customer_id\n",
        "df['_______'].value_counts().head(3)  ## Write the appropriate column name to get the top 5 cmost frequent customers"
      ]
    },
    {
      "cell_type": "markdown",
      "metadata": {
        "id": "4ceeYAVy2rdO"
      },
      "source": [
        "### Multivariate Analysis"
      ]
    },
    {
      "cell_type": "markdown",
      "metadata": {
        "id": "h-gdOXrS2rdO"
      },
      "source": [
        "### **Question 12:** Perform a multivariate analysis to explore relationships between the important variables in the dataset. (It is a good idea to explore relations between numerical variables as well as relations between numerical and categorical variables) [10 marks]"
      ]
    },
    {
      "cell_type": "markdown",
      "metadata": {
        "id": "sTYfSbdR2rdO"
      },
      "source": [
        "#### Cuisine vs Cost of the order"
      ]
    },
    {
      "cell_type": "code",
      "execution_count": null,
      "metadata": {
        "id": "wzJpBxZQ2rdP"
      },
      "outputs": [],
      "source": [
        "# Relationship between cost of the order and cuisine type\n",
        "plt.figure(figsize=(15,7))\n",
        "sns.boxplot(x = \"cuisine_type\", y = \"cost_of_the_order\", data = df, palette = 'PuBu', hue = \"cuisine_type\")\n",
        "plt.xticks(rotation = 60)\n",
        "plt.show()"
      ]
    },
    {
      "cell_type": "markdown",
      "metadata": {
        "id": "cmf4oTiB2rdQ"
      },
      "source": [
        "#### Cuisine vs Food Preparation time"
      ]
    },
    {
      "cell_type": "code",
      "execution_count": null,
      "metadata": {
        "id": "cfeDWTgN2rdQ",
        "scrolled": true
      },
      "outputs": [],
      "source": [
        "# Relationship between food preparation time and cuisine type\n",
        "plt.figure(figsize=(15,7))\n",
        "sns.boxplot('_______')  ## Complete the code to visualize the relationship between food preparation time and cuisine type using boxplot\n",
        "plt.xticks(rotation = 60)\n",
        "plt.show()"
      ]
    },
    {
      "cell_type": "markdown",
      "metadata": {
        "id": "28L5vjZw2rdQ"
      },
      "source": [
        "#### Day of the Week vs Delivery time"
      ]
    },
    {
      "cell_type": "code",
      "execution_count": null,
      "metadata": {
        "id": "fG3QyQ452rdQ",
        "scrolled": true
      },
      "outputs": [],
      "source": [
        "# Relationship between day of the week and delivery time\n",
        "plt.figure(figsize=(15,7))\n",
        "sns.boxplot('_______')  ## Complete the code to visualize the relationship between day of the week and delivery time using boxplot\n",
        "plt.show()"
      ]
    },
    {
      "cell_type": "markdown",
      "metadata": {
        "id": "UnppMp022rdQ"
      },
      "source": [
        "#### Run the below code and write your observations on the revenue generated by the restaurants."
      ]
    },
    {
      "cell_type": "code",
      "execution_count": null,
      "metadata": {
        "id": "LaDfuzIt2rdR"
      },
      "outputs": [],
      "source": [
        "df.groupby(['restaurant_name'])['cost_of_the_order'].sum().sort_values(ascending = False).head(14)"
      ]
    },
    {
      "cell_type": "markdown",
      "metadata": {
        "id": "lu0o5GkQ2rdR"
      },
      "source": [
        "#### Rating vs Delivery time"
      ]
    },
    {
      "cell_type": "code",
      "execution_count": null,
      "metadata": {
        "id": "NoBGHlPR2rdR",
        "scrolled": true
      },
      "outputs": [],
      "source": [
        "# Relationship between rating and delivery time\n",
        "plt.figure(figsize=(15, 7))\n",
        "sns.pointplot(x = 'rating', y = 'delivery_time', data = df)\n",
        "plt.show()"
      ]
    },
    {
      "cell_type": "markdown",
      "metadata": {
        "id": "EUW_xUEK2rdR"
      },
      "source": [
        "#### Rating vs Food preparation time"
      ]
    },
    {
      "cell_type": "code",
      "execution_count": null,
      "metadata": {
        "id": "d7qzVLdE2rdR",
        "scrolled": true
      },
      "outputs": [],
      "source": [
        "# Relationship between rating and food preparation time\n",
        "plt.figure(figsize=(15, 7))\n",
        "sns.pointplot('_______')  ## Complete the code to visualize the relationship between rating and food preparation time using pointplot\n",
        "plt.show()"
      ]
    },
    {
      "cell_type": "markdown",
      "metadata": {
        "id": "x1xcxS6h2rdS"
      },
      "source": [
        "#### Rating vs Cost of the order"
      ]
    },
    {
      "cell_type": "code",
      "execution_count": null,
      "metadata": {
        "id": "QV1lg0_72rdS"
      },
      "outputs": [],
      "source": [
        "# Relationship between rating and cost of the order\n",
        "plt.figure(figsize=(15, 7))\n",
        "sns.pointplot('_______')   ## Complete the code to visualize the relationship between rating and cost of the order using pointplot\n",
        "plt.show()"
      ]
    },
    {
      "cell_type": "markdown",
      "metadata": {
        "id": "N1ATzdSX2rdS"
      },
      "source": [
        "#### Correlation among variables"
      ]
    },
    {
      "cell_type": "code",
      "execution_count": null,
      "metadata": {
        "id": "I4yA0y032rdS",
        "scrolled": true
      },
      "outputs": [],
      "source": [
        "# Plot the heatmap\n",
        "col_list = ['cost_of_the_order', 'food_preparation_time', 'delivery_time']\n",
        "plt.figure(figsize=(15, 7))\n",
        "sns.heatmap(df[col_list].corr(), annot=True, vmin=-1, vmax=1, fmt=\".2f\", cmap=\"Spectral\")\n",
        "plt.show()"
      ]
    },
    {
      "cell_type": "markdown",
      "metadata": {
        "id": "zwBb5dAq2rdS"
      },
      "source": [
        "### **Question 13:** The company wants to provide a promotional offer in the advertisement of the restaurants. The condition to get the offer is that the restaurants must have a rating count of more than 50 and the average rating should be greater than 4. Find the restaurants fulfilling the criteria to get the promotional offer. [3 marks]"
      ]
    },
    {
      "cell_type": "code",
      "execution_count": null,
      "metadata": {
        "id": "4jQUoQ812rdS",
        "scrolled": true
      },
      "outputs": [],
      "source": [
        "# Filter the rated restaurants\n",
        "df_rated = df[df['rating'] != 'Not given'].copy()\n",
        "\n",
        "# Convert rating column from object to integer\n",
        "df_rated['rating'] = df_rated['rating'].astype('int')\n",
        "\n",
        "# Create a dataframe that contains the restaurant names with their rating counts\n",
        "df_rating_count = df_rated.groupby(['restaurant_name'])['rating'].count().sort_values(ascending = False).reset_index()\n",
        "df_rating_count.head()"
      ]
    },
    {
      "cell_type": "code",
      "execution_count": null,
      "metadata": {
        "id": "VLdgfwoL2rdT"
      },
      "outputs": [],
      "source": [
        "# Get the restaurant names that have rating count more than 50\n",
        "rest_names = df_rating_count['______________']['restaurant_name'] ## Complete the code to get the restaurant names having rating count more than 50\n",
        "\n",
        "# Filter to get the data of restaurants that have rating count more than 50\n",
        "df_mean_4 = df_rated[df_rated['restaurant_name'].isin(rest_names)].copy()\n",
        "\n",
        "# Group the restaurant names with their ratings and find the mean rating of each restaurant\n",
        "df_mean_4_rating = df_mean_4.groupby(['_______'])['_______'].mean().sort_values(ascending = False).reset_index().dropna() ## Complete the code to find the mean rating\n",
        "\n",
        "# filter for average rating greater than 4\n",
        "df_avg_rating_greater_than_4 = df_mean_4_rating[df_mean_4_rating['_______'] > 4].sort_values(by='_______', ascending=False).reset_index(drop=True)  ## Complete the code to find restaurants with rating > 4\n",
        "\n",
        "df_avg_rating_greater_than_4"
      ]
    },
    {
      "cell_type": "markdown",
      "metadata": {
        "id": "UYq_xMk72rdT"
      },
      "source": [
        "### **Question 14:** The company charges the restaurant 25% on the orders having cost greater than 20 dollars and 15% on the orders having cost greater than 5 dollars. Find the net revenue generated by the company across all orders. [3 marks]"
      ]
    },
    {
      "cell_type": "code",
      "execution_count": null,
      "metadata": {
        "id": "We7SLKbr2rdT"
      },
      "outputs": [],
      "source": [
        "#function to determine the revenue\n",
        "def compute_rev(x):\n",
        "    if x > 20:\n",
        "        return x*0.25\n",
        "    elif x > 5:\n",
        "        return x*0.15\n",
        "    else:\n",
        "        return x*0\n",
        "\n",
        "df['Revenue'] = df['________'].apply(compute_rev) ## Write the apprpriate column name to compute the revenue\n",
        "df.head()"
      ]
    },
    {
      "cell_type": "code",
      "execution_count": null,
      "metadata": {
        "id": "Ab_UW6kRIAk3"
      },
      "outputs": [],
      "source": [
        "# get the total revenue and print it\n",
        "total_rev = df['Revenue'].'_____' ## Write the appropriate function to get the total revenue\n",
        "print('The net revenue is around', round(total_rev, 2), 'dollars')"
      ]
    },
    {
      "cell_type": "markdown",
      "metadata": {
        "id": "LZy7Tky82rdT"
      },
      "source": [
        "### **Question 15:** The company wants to analyze the total time required to deliver the food. What percentage of orders take more than 60 minutes to get delivered from the time the order is placed? (The food has to be prepared and then delivered.)[2 marks]\n"
      ]
    },
    {
      "cell_type": "code",
      "execution_count": null,
      "metadata": {
        "id": "Ati2ZEEE2rdT"
      },
      "outputs": [],
      "source": [
        "# Calculate total delivery time and add a new column to the dataframe df to store the total delivery time\n",
        "df['total_time'] = df['food_preparation_time'] + df['delivery_time']\n",
        "\n",
        "\n",
        "## Write the code below to find the percentage of orders that have more than 60 minutes of total delivery time (see Question 9 for reference)\n",
        "\n",
        "\n",
        "\n"
      ]
    },
    {
      "cell_type": "markdown",
      "metadata": {
        "id": "SYOKcqNF2rdU"
      },
      "source": [
        "### **Question 16:** The company wants to analyze the delivery time of the orders on weekdays and weekends. How does the mean delivery time vary during weekdays and weekends? [2 marks]"
      ]
    },
    {
      "cell_type": "code",
      "execution_count": null,
      "metadata": {
        "id": "A2eovxKR2rdU"
      },
      "outputs": [],
      "source": [
        "# Get the mean delivery time on weekdays and print it\n",
        "print('The mean delivery time on weekdays is around',\n",
        "      round(df[df['day_of_the_week'] == 'Weekday']['delivery_time'].mean()),\n",
        "     'minutes')\n",
        "\n",
        "\n",
        "## Write the code below to get the mean delivery time on weekends and print it\n",
        "\n",
        "\n",
        "\n",
        "\n"
      ]
    },
    {
      "cell_type": "markdown",
      "metadata": {
        "id": "2nE3pq472rdU"
      },
      "source": [
        "### Conclusion and Recommendations"
      ]
    },
    {
      "cell_type": "markdown",
      "metadata": {
        "id": "DL1sNndy2rdU"
      },
      "source": [
        "\n",
        "### **Question 17:** What are your conclusions from the analysis? What recommendations would you like to share to help improve the business? (You can use cuisine type and feedback ratings to drive your business recommendations.) [6 marks]"
      ]
    },
    {
      "cell_type": "markdown",
      "metadata": {
        "id": "VTugVsL4Ddz-"
      },
      "source": [
        "### Conclusions:\n",
        "*  "
      ]
    },
    {
      "cell_type": "markdown",
      "metadata": {
        "id": "PWnsI0i_guWJ"
      },
      "source": [
        "### Recommendations:\n",
        "\n",
        "*  "
      ]
    },
    {
      "cell_type": "markdown",
      "metadata": {
        "id": "Kvk0Fh6WhMjU"
      },
      "source": [
        "---"
      ]
    }
  ],
  "metadata": {
    "colab": {
      "collapsed_sections": [
        "LUh8hTiW2rdH",
        "2Dl2aL1W2rdI",
        "4ceeYAVy2rdO",
        "lu0o5GkQ2rdR",
        "2nE3pq472rdU",
        "DL1sNndy2rdU"
      ],
      "provenance": [],
      "toc_visible": true,
      "include_colab_link": true
    },
    "kernelspec": {
      "display_name": "Python 3 (ipykernel)",
      "language": "python",
      "name": "python3"
    },
    "language_info": {
      "codemirror_mode": {
        "name": "ipython",
        "version": 3
      },
      "file_extension": ".py",
      "mimetype": "text/x-python",
      "name": "python",
      "nbconvert_exporter": "python",
      "pygments_lexer": "ipython3",
      "version": "3.11.7"
    }
  },
  "nbformat": 4,
  "nbformat_minor": 0
}